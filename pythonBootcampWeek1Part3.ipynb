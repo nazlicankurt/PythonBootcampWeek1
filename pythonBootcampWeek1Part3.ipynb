{
 "cells": [
  {
   "cell_type": "code",
   "execution_count": null,
   "metadata": {},
   "outputs": [],
   "source": [
    "\n",
    "lower = 0\n",
    "upper = 100\n",
    "\n",
    "print(\"Prime numbers between\", lower, \"and\", upper, \"are:\")\n",
    "\n",
    "for num in range(lower, upper + 1):\n",
    "   # all prime numbers are greater than 1\n",
    "   if num > 1:\n",
    "       for i in range(2, num):\n",
    "           if (num % i) == 0:\n",
    "               break\n",
    "       else:\n",
    "           print(num)"
   ]
  },
  {
   "cell_type": "code",
   "execution_count": 39,
   "metadata": {},
   "outputs": [
    {
     "name": "stdout",
     "output_type": "stream",
     "text": [
      "apple\n",
      "pear\n",
      "peach\n"
     ]
    }
   ],
   "source": [
    "list = [\"apple\", \"pear\", \"peach\"]\n",
    "for element in liste :\n",
    "    print(element)\n",
    "    "
   ]
  },
  {
   "cell_type": "code",
   "execution_count": 42,
   "metadata": {},
   "outputs": [
    {
     "name": "stdout",
     "output_type": "stream",
     "text": [
      "0 0\n",
      "1 1\n",
      "2 4\n",
      "3 9\n",
      "4 16\n",
      "5 25\n",
      "6 36\n",
      "7 49\n",
      "8 64\n",
      "9 81\n",
      "10 100\n"
     ]
    }
   ],
   "source": [
    "for x in range(11):\n",
    "    print(x, x**2)"
   ]
  },
  {
   "cell_type": "code",
   "execution_count": 44,
   "metadata": {},
   "outputs": [
    {
     "name": "stdout",
     "output_type": "stream",
     "text": [
      "h,e,l,l,o,"
     ]
    }
   ],
   "source": [
    "for c in \"hello\":\n",
    "    print (c, end=\",\")\n",
    "    "
   ]
  },
  {
   "cell_type": "code",
   "execution_count": 46,
   "metadata": {},
   "outputs": [
    {
     "name": "stdout",
     "output_type": "stream",
     "text": [
      "7\n"
     ]
    }
   ],
   "source": [
    "sum = 0\n",
    "for  x in (4,5,2,-4):\n",
    "    sum += x\n",
    "print(sum)"
   ]
  },
  {
   "cell_type": "code",
   "execution_count": 49,
   "metadata": {},
   "outputs": [
    {
     "name": "stdout",
     "output_type": "stream",
     "text": [
      "1 2 3\n",
      "2 4 6\n",
      "5 6 11\n"
     ]
    }
   ],
   "source": [
    "list = [(1,2), (2,4), (5,6)]\n",
    "for e in list: \n",
    "    print(e[0], e[1], e[0]+e[1])\n",
    "    "
   ]
  },
  {
   "cell_type": "code",
   "execution_count": 54,
   "metadata": {},
   "outputs": [],
   "source": [
    "list = [(1,2), (2,4), (5,6)]\n",
    "for e in list: \n",
    "    while i<= len(e):\n",
    "        print(e[0], e[1], e[0]+e[1])"
   ]
  },
  {
   "cell_type": "code",
   "execution_count": 56,
   "metadata": {},
   "outputs": [
    {
     "name": "stdout",
     "output_type": "stream",
     "text": [
      "a: 1 b: 2 a+b: 3\n",
      "a: 2 b: 4 a+b: 6\n",
      "a: 5 b: 6 a+b: 11\n"
     ]
    }
   ],
   "source": [
    "for a, b in list:\n",
    "    print(f\"a: {a} b: {b} a+b: {a+b}\")"
   ]
  },
  {
   "cell_type": "code",
   "execution_count": 59,
   "metadata": {},
   "outputs": [
    {
     "name": "stdout",
     "output_type": "stream",
     "text": [
      "enter a positif number: 23\n",
      "2\n",
      "3\n",
      "5\n",
      "7\n",
      "9\n",
      "11\n",
      "13\n",
      "15\n",
      "17\n",
      "19\n",
      "21\n",
      "23\n"
     ]
    }
   ],
   "source": [
    "N = int(input(\"enter a positif number: \"))\n",
    "x = 2 \n",
    "while x<=N :\n",
    "    i=2\n",
    "    while i*i <= x:\n",
    "        if x % i == 0:\n",
    "            break\n",
    "        i += i\n",
    "    else:\n",
    "        print(x)\n",
    "    x += 1\n",
    "    "
   ]
  },
  {
   "cell_type": "code",
   "execution_count": null,
   "metadata": {},
   "outputs": [],
   "source": [
    "N = int(input(\"The number of prime numbers you want:: \"))\n",
    "x = 2 \n",
    "list = []\n",
    "i=2\n",
    "while i*i <= x :\n",
    "    if x % i == 0:\n",
    "        break\n",
    "        i += i\n",
    "    else:\n",
    "        list.append(x)\n",
    "    x += 1\n",
    "if len(list) == N:\n",
    "    break \n",
    "    \n",
    "#len(liste) ==N "
   ]
  },
  {
   "cell_type": "code",
   "execution_count": null,
   "metadata": {},
   "outputs": [],
   "source": [
    "n = int(input(\"kaç tane asal bulsun: \"))\n",
    "\n",
    "if n == 1:\n",
    "    print(2)\n",
    "else:    \n",
    "    c = 1\n",
    "    print(2)\n",
    "    y = 3\n",
    "    while c<n:\n",
    "        i = 2\n",
    "        b = True\n",
    "        while i<y:\n",
    "            if y%i == 0:\n",
    "                b = False\n",
    "                break\n",
    "            i += 1\n",
    "        if b:\n",
    "            print(y)\n",
    "            c+=1\n",
    "        y +=1    "
   ]
  }
 ],
 "metadata": {
  "kernelspec": {
   "display_name": "Python 3",
   "language": "python",
   "name": "python3"
  },
  "language_info": {
   "codemirror_mode": {
    "name": "ipython",
    "version": 3
   },
   "file_extension": ".py",
   "mimetype": "text/x-python",
   "name": "python",
   "nbconvert_exporter": "python",
   "pygments_lexer": "ipython3",
   "version": "3.7.6"
  }
 },
 "nbformat": 4,
 "nbformat_minor": 4
}
