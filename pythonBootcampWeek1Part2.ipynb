{
 "cells": [
  {
   "cell_type": "markdown",
   "metadata": {},
   "source": [
    "# break\n"
   ]
  },
  {
   "cell_type": "code",
   "execution_count": 5,
   "metadata": {},
   "outputs": [
    {
     "name": "stdout",
     "output_type": "stream",
     "text": [
      "enter a number(to complete -99):5\n",
      "enter a number(to complete -99):4\n",
      "enter a number(to complete -99):3\n",
      "enter a number(to complete -99):2\n",
      "enter a number(to complete -99):43\n",
      "enter a number(to complete -99):-99\n",
      "sum:  57\n"
     ]
    }
   ],
   "source": [
    "sum =0 \n",
    "while True: \n",
    "    x = int(input(\"enter a number(to complete -99):\"))\n",
    "    if x == -99:\n",
    "       break\n",
    "    sum += x \n",
    "print(\"sum: \", sum)\n",
    "    #without -99"
   ]
  },
  {
   "cell_type": "code",
   "execution_count": 16,
   "metadata": {},
   "outputs": [
    {
     "name": "stdout",
     "output_type": "stream",
     "text": [
      "enter a number(to complete -99): 12\n",
      "enter a number(to complete -99): 232\n",
      "The number you enter must be in the range 0-100\n",
      "enter a number(to complete -99): 32\n",
      "enter a number(to complete -99): 2\n",
      "enter a number(to complete -99): -99\n",
      "sum 3\n"
     ]
    }
   ],
   "source": [
    "sum = 0\n",
    "while True: \n",
    "    x =int(input(\"enter a number(to complete -99): \"))\n",
    "    if x == -99:\n",
    "        break \n",
    "    if x<0 or x>100:\n",
    "        print(\"The number you enter must be in the range 0-100\")\n",
    "        continue\n",
    "    sum += 1\n",
    "print(\"sum\", sum)\n",
    "\n",
    "# if we used sum += x, result : (sum)++"
   ]
  },
  {
   "cell_type": "markdown",
   "metadata": {},
   "source": []
  },
  {
   "cell_type": "code",
   "execution_count": 19,
   "metadata": {},
   "outputs": [
    {
     "name": "stdout",
     "output_type": "stream",
     "text": [
      "wanted -2 value 4 we found in here \n"
     ]
    }
   ],
   "source": [
    "list = [1,2,3,-1,-2,-5]\n",
    "i =0 \n",
    "wanted = -2\n",
    "found = False\n",
    "while i<len(list) and not found:\n",
    "    if list[i] == wanted:\n",
    "        found =True\n",
    "    else: \n",
    "        i += 1\n",
    "if found: \n",
    "    print(\"wanted\", wanted, \"value\", i, \"we found in here \")\n",
    "else: \n",
    "    print(\"we didnt find anything\")"
   ]
  },
  {
   "cell_type": "code",
   "execution_count": null,
   "metadata": {},
   "outputs": [],
   "source": []
  },
  {
   "cell_type": "code",
   "execution_count": null,
   "metadata": {},
   "outputs": [],
   "source": [
    "list = [1,2,3,-1,-2,-5]\n",
    "i =0 \n",
    "wanted = int(input(\"Sought value: \"))\n",
    "found = False\n",
    "while i<len(list) :\n",
    "    if list[i] == wanted:\n",
    "        print(\"wanted\", wanted, \"value\", i, \"we found in here \")\n",
    "        break;\n",
    "    i += 1\n",
    "\n",
    "else: \n",
    "    print(\"we didnt find anything\")"
   ]
  },
  {
   "cell_type": "code",
   "execution_count": 1,
   "metadata": {},
   "outputs": [
    {
     "name": "stdout",
     "output_type": "stream",
     "text": [
      "Sought value: 5\n",
      "we didnt find anything\n"
     ]
    }
   ],
   "source": [
    "list = [1,2,3,-1,-2,-5]\n",
    "i =0 \n",
    "wanted = int(input(\"Sought value: \"))\n",
    "found = False\n",
    "while i<len(list) :\n",
    "    if list[i] == wanted:\n",
    "        print(\"wanted\", wanted, \"value\", i, \"we found in here \")\n",
    "        break;\n",
    "    i += 1\n",
    "\n",
    "else: \n",
    "    print(\"we didnt find anything\")"
   ]
  },
  {
   "cell_type": "code",
   "execution_count": null,
   "metadata": {},
   "outputs": [],
   "source": []
  },
  {
   "cell_type": "code",
   "execution_count": null,
   "metadata": {},
   "outputs": [],
   "source": []
  },
  {
   "cell_type": "code",
   "execution_count": null,
   "metadata": {},
   "outputs": [],
   "source": []
  }
 ],
 "metadata": {
  "kernelspec": {
   "display_name": "Python 3",
   "language": "python",
   "name": "python3"
  },
  "language_info": {
   "codemirror_mode": {
    "name": "ipython",
    "version": 3
   },
   "file_extension": ".py",
   "mimetype": "text/x-python",
   "name": "python",
   "nbconvert_exporter": "python",
   "pygments_lexer": "ipython3",
   "version": "3.7.6"
  }
 },
 "nbformat": 4,
 "nbformat_minor": 4
}
